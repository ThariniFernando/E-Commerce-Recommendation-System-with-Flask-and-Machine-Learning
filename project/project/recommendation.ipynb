{
 "cells": [
  {
   "cell_type": "code",
   "execution_count": 2,
   "id": "846f6267-0344-4d34-8f07-89f872548bf1",
   "metadata": {},
   "outputs": [],
   "source": [
    "import pandas as pd\n",
    "import numpy as np\n",
    "import matplotlib.pyplot as plt\n",
    "import seaborn as sns\n",
    "\n",
    "from sklearn.metrics.pairwise import cosine_similarity\n",
    "from sklearn.feature_extraction.text import TfidfVectorizer\n",
    "\n",
    "import os\n",
    "from scipy.sparse import coo_matrix"
   ]
  },
  {
   "cell_type": "code",
   "execution_count": 3,
   "id": "6dc07d0d-93a0-451c-86b6-2a4feb7ee8ba",
   "metadata": {},
   "outputs": [
    {
     "data": {
      "text/plain": [
       "Index(['Unnamed: 0', 'ID', 'ProdID', 'Rating', 'ReviewCount', 'Category',\n",
       "       'Brand', 'Name', 'ImageURL', 'Description', 'Tags'],\n",
       "      dtype='object')"
      ]
     },
     "execution_count": 3,
     "metadata": {},
     "output_type": "execute_result"
    }
   ],
   "source": [
    "\n",
    "train_data = pd.read_csv('C:/Users/sajin/project/models/clean_data.csv')\n",
    "train_data.columns"
   ]
  },
  {
   "cell_type": "code",
   "execution_count": 4,
   "id": "7bc04183-593b-4001-97c0-054d1ea1c705",
   "metadata": {},
   "outputs": [
    {
     "data": {
      "text/plain": [
       "(4090, 11)"
      ]
     },
     "execution_count": 4,
     "metadata": {},
     "output_type": "execute_result"
    }
   ],
   "source": [
    "train_data.shape"
   ]
  },
  {
   "cell_type": "code",
   "execution_count": 5,
   "id": "5f4f10ea-0922-4e4c-83f9-25ac7f136342",
   "metadata": {},
   "outputs": [
    {
     "name": "stdout",
     "output_type": "stream",
     "text": [
      "Unnamed: 0       int64\n",
      "ID               int64\n",
      "ProdID           int64\n",
      "Rating         float64\n",
      "ReviewCount    float64\n",
      "Category        object\n",
      "Brand           object\n",
      "Name            object\n",
      "ImageURL        object\n",
      "Description     object\n",
      "Tags            object\n",
      "dtype: object\n"
     ]
    }
   ],
   "source": [
    "# Display the data types of each column\n",
    "print(train_data.dtypes)\n"
   ]
  },
  {
   "cell_type": "code",
   "execution_count": null,
   "id": "b17cafd2-ecca-4014-b867-1f80de6f2d3c",
   "metadata": {},
   "outputs": [],
   "source": [
    "# Convert the ReviewCount column to numeric\n",
    "train_data['ReviewCount'] = pd.to_numeric(train_data['ReviewCount'], errors='coerce')"
   ]
  },
  {
   "cell_type": "code",
   "execution_count": 6,
   "id": "2155bb79-d479-4aa0-928b-aa86217316cf",
   "metadata": {},
   "outputs": [
    {
     "data": {
      "text/plain": [
       "Unnamed: 0       0\n",
       "ID               0\n",
       "ProdID           0\n",
       "Rating           0\n",
       "ReviewCount      0\n",
       "Category         9\n",
       "Brand           96\n",
       "Name             0\n",
       "ImageURL         0\n",
       "Description    916\n",
       "Tags             0\n",
       "dtype: int64"
      ]
     },
     "execution_count": 6,
     "metadata": {},
     "output_type": "execute_result"
    }
   ],
   "source": [
    "train_data.isnull().sum()"
   ]
  },
  {
   "cell_type": "code",
   "execution_count": 8,
   "id": "52ac8b88-c277-4c53-8a63-64cc9647267e",
   "metadata": {},
   "outputs": [],
   "source": [
    "# Fill missing values\n",
    "train_data['Category'].fillna('Unknown', inplace=True)\n",
    "train_data['Brand'].fillna('Unknown', inplace=True)\n",
    "train_data['Description'].fillna('No description available', inplace=True)\n"
   ]
  },
  {
   "cell_type": "code",
   "execution_count": 9,
   "id": "7a0518b1-10e4-4a6b-a1ba-8d33374e35d0",
   "metadata": {},
   "outputs": [
    {
     "data": {
      "text/plain": [
       "Unnamed: 0     0\n",
       "ID             0\n",
       "ProdID         0\n",
       "Rating         0\n",
       "ReviewCount    0\n",
       "Category       0\n",
       "Brand          0\n",
       "Name           0\n",
       "ImageURL       0\n",
       "Description    0\n",
       "Tags           0\n",
       "dtype: int64"
      ]
     },
     "execution_count": 9,
     "metadata": {},
     "output_type": "execute_result"
    }
   ],
   "source": [
    "train_data.isnull().sum()\n"
   ]
  },
  {
   "cell_type": "code",
   "execution_count": 10,
   "id": "9c1fa39c-424a-416f-8e71-3c0fc8a24647",
   "metadata": {},
   "outputs": [
    {
     "data": {
      "text/plain": [
       "np.int64(0)"
      ]
     },
     "execution_count": 10,
     "metadata": {},
     "output_type": "execute_result"
    }
   ],
   "source": [
    "train_data.duplicated().sum()"
   ]
  },
  {
   "cell_type": "code",
   "execution_count": 11,
   "id": "0b15cdfe-4644-4adb-910f-d8d5c165b8bb",
   "metadata": {},
   "outputs": [
    {
     "name": "stdout",
     "output_type": "stream",
     "text": [
      "Number of unique users: 1666\n",
      "Number of unique items: 1607\n",
      "Number of unique ratings: 36\n"
     ]
    }
   ],
   "source": [
    "num_users = train_data['ID'].nunique()\n",
    "num_items = train_data['ProdID'].nunique()\n",
    "num_ratings = train_data['Rating'].nunique()\n",
    "print(f\"Number of unique users: {num_users}\")\n",
    "print(f\"Number of unique items: {num_items}\")\n",
    "print(f\"Number of unique ratings: {num_ratings}\")"
   ]
  },
  {
   "cell_type": "code",
   "execution_count": 12,
   "id": "4d0ac543-5ab5-4de0-9649-a09a826641a6",
   "metadata": {},
   "outputs": [
    {
     "data": {
      "image/png": "[encoded data removed]",
      "text/plain": [
       "<Figure size 800x600 with 2 Axes>"
      ]
     },
     "metadata": {},
     "output_type": "display_data"
    }
   ],
   "source": [
    "# Pivot the DataFrame to create a heatmap\n",
    "heatmap_data = train_data.pivot_table('ID', 'Rating')\n",
    "\n",
    "# Create the heatmap\n",
    "plt.figure(figsize=(8, 6))\n",
    "sns.heatmap(heatmap_data, annot=True, fmt='g', cmap='coolwarm', cbar=True)\n",
    "plt.title('Heatmap of User Ratings')\n",
    "plt.xlabel('Ratings')\n",
    "plt.ylabel('User ID')\n",
    "plt.show()"
   ]
  },
  {
   "cell_type": "code",
   "execution_count": 13,
   "id": "8176284a-5d75-465d-af67-7f67625cf281",
   "metadata": {},
   "outputs": [
    {
     "data": {
      "image/png": "[encoded data removed]",
      "text/plain": [
       "<Figure size 1200x500 with 2 Axes>"
      ]
     },
     "metadata": {},
     "output_type": "display_data"
    }
   ],
   "source": [
    "# Distribution of interactions\n",
    "plt.figure(figsize=(12, 5))\n",
    "plt.subplot(1, 2, 1)\n",
    "train_data['ID'].value_counts().hist(bins=10, edgecolor='k')\n",
    "plt.xlabel('Interactions per User')\n",
    "plt.ylabel('Number of Users')\n",
    "plt.title('Distribution of Interactions per User')\n",
    "\n",
    "plt.subplot(1, 2, 2)\n",
    "train_data['ProdID'].value_counts().hist(bins=10, edgecolor='k',color='green')\n",
    "plt.xlabel('Interactions per Item')\n",
    "plt.ylabel('Number of Items')\n",
    "plt.title('Distribution of Interactions per Item')\n",
    "\n",
    "plt.tight_layout()\n",
    "plt.show()"
   ]
  },
  {
   "cell_type": "code",
   "execution_count": 14,
   "id": "9001a263-5452-464d-94ec-11391e0095e6",
   "metadata": {},
   "outputs": [
    {
     "data": {
      "text/plain": [
       "Text(0.5, 1.0, 'Most Popular items')"
      ]
     },
     "execution_count": 14,
     "metadata": {},
     "output_type": "execute_result"
    },
    {
     "data": {
      "image/png": "[encoded data removed]",
      "text/plain": [
       "<Figure size 640x480 with 1 Axes>"
      ]
     },
     "metadata": {},
     "output_type": "display_data"
    }
   ],
   "source": [
    "# Most popular items\n",
    "popular_items = train_data['ProdID'].value_counts().head(5)\n",
    "popular_items.plot(kind='bar',color='red')\n",
    "plt.title(\"Most Popular items\")"
   ]
  },
  {
   "cell_type": "code",
   "execution_count": 15,
   "id": "9e9c6429-e82a-4e07-a609-b30c7500d72e",
   "metadata": {},
   "outputs": [
    {
     "data": {
      "text/plain": [
       "<Axes: xlabel='Rating'>"
      ]
     },
     "execution_count": 15,
     "metadata": {},
     "output_type": "execute_result"
    },
    {
     "data": {
      "image/png": "[encoded data removed]",
      "text/plain": [
       "<Figure size 640x480 with 1 Axes>"
      ]
     },
     "metadata": {},
     "output_type": "display_data"
    }
   ],
   "source": [
    "# most rated counts\n",
    "train_data['Rating'].value_counts().plot(kind='bar',color='red')"
   ]
  },
  {
   "cell_type": "code",
   "execution_count": 16,
   "id": "0992646a-f3a3-4bff-a3ab-6925813c858b",
   "metadata": {},
   "outputs": [
    {
     "name": "stderr",
     "output_type": "stream",
     "text": [
      "C:\\Users\\sajin\\AppData\\Roaming\\Python\\Python312\\site-packages\\spacy\\util.py:910: UserWarning: [W095] Model 'en_core_web_sm' (3.7.1) was trained with spaCy v3.7.2 and may not be 100% compatible with the current version (3.8.2). If you see errors or degraded performance, download a newer compatible model or retrain your custom model with the current spaCy version. For more details and available updates, run: python -m spacy validate\n",
      "  warnings.warn(warn_msg)\n"
     ]
    }
   ],
   "source": [
    "import spacy\n",
    "from spacy.lang.en.stop_words import STOP_WORDS\n",
    "\n",
    "nlp = spacy.load(\"en_core_web_sm\")\n",
    "\n",
    "def clean_and_extract_tags(text):\n",
    "    doc = nlp(text.lower())\n",
    "    tags = [token.text for token in doc if token.text.isalnum() and token.text not in STOP_WORDS]\n",
    "    return ', '.join(tags)\n",
    "\n",
    "columns_to_extract_tags_from = ['Category', 'Brand', 'Description']\n",
    "\n",
    "for column in columns_to_extract_tags_from:\n",
    "    train_data[column] = train_data[column].apply(clean_and_extract_tags)"
   ]
  },
  {
   "cell_type": "code",
   "execution_count": 17,
   "id": "265db794-be75-438f-a076-546d15a19330",
   "metadata": {},
   "outputs": [],
   "source": [
    "# Concatenate the cleaned tags from all relevant columns\n",
    "train_data['Tags'] = train_data[columns_to_extract_tags_from].apply(lambda row: ', '.join(row), axis=1)"
   ]
  },
  {
   "cell_type": "code",
   "execution_count": 18,
   "id": "536af81a-6ede-488d-8f52-f955bf079885",
   "metadata": {},
   "outputs": [],
   "source": [
    "\n",
    "average_ratings = train_data.groupby(['Name','ReviewCount','Brand','ImageURL'])['Rating'].mean().reset_index()"
   ]
  },
  {
   "cell_type": "code",
   "execution_count": 19,
   "id": "2f2ba3ce-f438-4633-8b37-babd708cc6db",
   "metadata": {},
   "outputs": [],
   "source": [
    "top_rated_items = average_ratings.sort_values(by='Rating', ascending=False)\n",
    "\n",
    "rating_base_recommendation = top_rated_items.head(10)"
   ]
  },
  {
   "cell_type": "code",
   "execution_count": 20,
   "id": "4d1f160c-cedd-40d8-be7d-e0a6baa5b887",
   "metadata": {},
   "outputs": [
    {
     "name": "stderr",
     "output_type": "stream",
     "text": [
      "C:\\Users\\sajin\\AppData\\Local\\Temp\\ipykernel_30044\\565725879.py:1: SettingWithCopyWarning: \n",
      "A value is trying to be set on a copy of a slice from a DataFrame.\n",
      "Try using .loc[row_indexer,col_indexer] = value instead\n",
      "\n",
      "See the caveats in the documentation: https://pandas.pydata.org/pandas-docs/stable/user_guide/indexing.html#returning-a-view-versus-a-copy\n",
      "  rating_base_recommendation['Rating'] = rating_base_recommendation['Rating'].astype(int)\n",
      "C:\\Users\\sajin\\AppData\\Local\\Temp\\ipykernel_30044\\565725879.py:2: SettingWithCopyWarning: \n",
      "A value is trying to be set on a copy of a slice from a DataFrame.\n",
      "Try using .loc[row_indexer,col_indexer] = value instead\n",
      "\n",
      "See the caveats in the documentation: https://pandas.pydata.org/pandas-docs/stable/user_guide/indexing.html#returning-a-view-versus-a-copy\n",
      "  rating_base_recommendation['ReviewCount'] = rating_base_recommendation['ReviewCount'].astype(int)\n"
     ]
    }
   ],
   "source": [
    "rating_base_recommendation['Rating'] = rating_base_recommendation['Rating'].astype(int)\n",
    "rating_base_recommendation['ReviewCount'] = rating_base_recommendation['ReviewCount'].astype(int)"
   ]
  },
  {
   "cell_type": "code",
   "execution_count": 21,
   "id": "460fcbe3-7b21-4b07-a4dc-c1b6348f411f",
   "metadata": {},
   "outputs": [
    {
     "name": "stdout",
     "output_type": "stream",
     "text": [
      "Rating Base Recommendation System: (Trending Products)\n"
     ]
    },
    {
     "name": "stderr",
     "output_type": "stream",
     "text": [
      "C:\\Users\\sajin\\AppData\\Local\\Temp\\ipykernel_30044\\393183274.py:2: SettingWithCopyWarning: \n",
      "A value is trying to be set on a copy of a slice from a DataFrame.\n",
      "Try using .loc[row_indexer,col_indexer] = value instead\n",
      "\n",
      "See the caveats in the documentation: https://pandas.pydata.org/pandas-docs/stable/user_guide/indexing.html#returning-a-view-versus-a-copy\n",
      "  rating_base_recommendation[['Name','Rating','ReviewCount','Brand','ImageURL']] = rating_base_recommendation[['Name','Rating','ReviewCount','Brand','ImageURL']]\n"
     ]
    },
    {
     "data": {
      "text/html": [
       "<div>\n",
       "<style scoped>\n",
       "    .dataframe tbody tr th:only-of-type {\n",
       "        vertical-align: middle;\n",
       "    }\n",
       "\n",
       "    .dataframe tbody tr th {\n",
       "        vertical-align: top;\n",
       "    }\n",
       "\n",
       "    .dataframe thead th {\n",
       "        text-align: right;\n",
       "    }\n",
       "</style>\n",
       "<table border=\"1\" class=\"dataframe\">\n",
       "  <thead>\n",
       "    <tr style=\"text-align: right;\">\n",
       "      <th></th>\n",
       "      <th>Name</th>\n",
       "      <th>ReviewCount</th>\n",
       "      <th>Brand</th>\n",
       "      <th>ImageURL</th>\n",
       "      <th>Rating</th>\n",
       "    </tr>\n",
       "  </thead>\n",
       "  <tbody>\n",
       "    <tr>\n",
       "      <th>1</th>\n",
       "      <td>($100 Value) Peter Thomas Roth Thermal Therapy...</td>\n",
       "      <td>1</td>\n",
       "      <td>peter, thomas, roth</td>\n",
       "      <td>https://i5.walmartimages.com/asr/ecd851ef-6ca7...</td>\n",
       "      <td>5</td>\n",
       "    </tr>\n",
       "    <tr>\n",
       "      <th>14</th>\n",
       "      <td>($33 Value) Sol De Janeiro Carnaval Shimmer Gi...</td>\n",
       "      <td>2</td>\n",
       "      <td>sol, de, janeiro</td>\n",
       "      <td>https://i5.walmartimages.com/asr/433fca9d-d5c2...</td>\n",
       "      <td>5</td>\n",
       "    </tr>\n",
       "    <tr>\n",
       "      <th>10</th>\n",
       "      <td>($206 Value) Peter Thomas Roth Face Mask Frenz...</td>\n",
       "      <td>1</td>\n",
       "      <td>peter, thomas, roth</td>\n",
       "      <td>https://i5.walmartimages.com/asr/f5fae452-5c37...</td>\n",
       "      <td>5</td>\n",
       "    </tr>\n",
       "    <tr>\n",
       "      <th>9</th>\n",
       "      <td>($19 Value) Jack Black Pit Boss Antiperspirant...</td>\n",
       "      <td>3</td>\n",
       "      <td>jack, black</td>\n",
       "      <td>https://i5.walmartimages.com/asr/d03b6f4e-27e3...</td>\n",
       "      <td>5</td>\n",
       "    </tr>\n",
       "    <tr>\n",
       "      <th>944</th>\n",
       "      <td>Chlorella Powder Broken Cell</td>\n",
       "      <td>1</td>\n",
       "      <td>holistic, herbal, solutions</td>\n",
       "      <td>https://i5.walmartimages.com/asr/c8af353d-c591...</td>\n",
       "      <td>5</td>\n",
       "    </tr>\n",
       "    <tr>\n",
       "      <th>4014</th>\n",
       "      <td>carmex lip balm stick, strawberry, 3 count</td>\n",
       "      <td>1</td>\n",
       "      <td>carmex</td>\n",
       "      <td>https://i5.walmartimages.com/asr/adbcfbe8-fb3c...</td>\n",
       "      <td>5</td>\n",
       "    </tr>\n",
       "    <tr>\n",
       "      <th>4001</th>\n",
       "      <td>all Free Clear For Sensitive Skin, 110 Loads, ...</td>\n",
       "      <td>4</td>\n",
       "      <td>unknown</td>\n",
       "      <td>https://i5.walmartimages.com/asr/9ccd3c7b-f479...</td>\n",
       "      <td>5</td>\n",
       "    </tr>\n",
       "    <tr>\n",
       "      <th>62</th>\n",
       "      <td>(2 Packs) Crest 4 In 1 Fluoride Anticavity Too...</td>\n",
       "      <td>1</td>\n",
       "      <td>crest</td>\n",
       "      <td>https://i5.walmartimages.com/asr/44ea137f-ab6d...</td>\n",
       "      <td>5</td>\n",
       "    </tr>\n",
       "    <tr>\n",
       "      <th>58</th>\n",
       "      <td>(2 Pack) Spring Valley Apple Cider Vinegar Cap...</td>\n",
       "      <td>2</td>\n",
       "      <td>spring, valley</td>\n",
       "      <td>https://i5.walmartimages.com/asr/7b4c7801-3747...</td>\n",
       "      <td>5</td>\n",
       "    </tr>\n",
       "    <tr>\n",
       "      <th>1575</th>\n",
       "      <td>Gaiam Kids Yoga Mat Pink Zebra, 4mm</td>\n",
       "      <td>13</td>\n",
       "      <td>gaiam</td>\n",
       "      <td>https://i5.walmartimages.com/asr/1e3a766f-4185...</td>\n",
       "      <td>5</td>\n",
       "    </tr>\n",
       "  </tbody>\n",
       "</table>\n",
       "</div>"
      ],
      "text/plain": [
       "                                                   Name  ReviewCount  \\\n",
       "1     ($100 Value) Peter Thomas Roth Thermal Therapy...            1   \n",
       "14    ($33 Value) Sol De Janeiro Carnaval Shimmer Gi...            2   \n",
       "10    ($206 Value) Peter Thomas Roth Face Mask Frenz...            1   \n",
       "9     ($19 Value) Jack Black Pit Boss Antiperspirant...            3   \n",
       "944                        Chlorella Powder Broken Cell            1   \n",
       "4014         carmex lip balm stick, strawberry, 3 count            1   \n",
       "4001  all Free Clear For Sensitive Skin, 110 Loads, ...            4   \n",
       "62    (2 Packs) Crest 4 In 1 Fluoride Anticavity Too...            1   \n",
       "58    (2 Pack) Spring Valley Apple Cider Vinegar Cap...            2   \n",
       "1575                Gaiam Kids Yoga Mat Pink Zebra, 4mm           13   \n",
       "\n",
       "                            Brand  \\\n",
       "1             peter, thomas, roth   \n",
       "14               sol, de, janeiro   \n",
       "10            peter, thomas, roth   \n",
       "9                     jack, black   \n",
       "944   holistic, herbal, solutions   \n",
       "4014                       carmex   \n",
       "4001                      unknown   \n",
       "62                          crest   \n",
       "58                 spring, valley   \n",
       "1575                        gaiam   \n",
       "\n",
       "                                               ImageURL  Rating  \n",
       "1     https://i5.walmartimages.com/asr/ecd851ef-6ca7...       5  \n",
       "14    https://i5.walmartimages.com/asr/433fca9d-d5c2...       5  \n",
       "10    https://i5.walmartimages.com/asr/f5fae452-5c37...       5  \n",
       "9     https://i5.walmartimages.com/asr/d03b6f4e-27e3...       5  \n",
       "944   https://i5.walmartimages.com/asr/c8af353d-c591...       5  \n",
       "4014  https://i5.walmartimages.com/asr/adbcfbe8-fb3c...       5  \n",
       "4001  https://i5.walmartimages.com/asr/9ccd3c7b-f479...       5  \n",
       "62    https://i5.walmartimages.com/asr/44ea137f-ab6d...       5  \n",
       "58    https://i5.walmartimages.com/asr/7b4c7801-3747...       5  \n",
       "1575  https://i5.walmartimages.com/asr/1e3a766f-4185...       5  "
      ]
     },
     "execution_count": 21,
     "metadata": {},
     "output_type": "execute_result"
    }
   ],
   "source": [
    "print(\"Rating Base Recommendation System: (Trending Products)\")\n",
    "rating_base_recommendation[['Name','Rating','ReviewCount','Brand','ImageURL']] = rating_base_recommendation[['Name','Rating','ReviewCount','Brand','ImageURL']]\n",
    "rating_base_recommendation"
   ]
  },
  {
   "cell_type": "code",
   "execution_count": 23,
   "id": "e8486192-650e-4505-9195-7d6ade4359c4",
   "metadata": {},
   "outputs": [],
   "source": [
    "import pandas as pd\n",
    "\n",
    "# Creating a dictionary with your data\n",
    "data = {\n",
    "    'Name': [\n",
    "        'DermOrganic Intensive Hair Repair Masque 33.8 Oz',\n",
    "        'Dermalogica Conditioning Body Wash Pro 32 oz (...)',\n",
    "        'Dermalogica Sheer Tint Tinted Moisturizer SPF ...',\n",
    "        'Design Essentials Natural Coconut & Monoi Curl...',\n",
    "        'Design.Me Root Lift Volumizing Powder Puff Me ...',\n",
    "        'Dax High & Tight Awesome Shine Hair Dress 3.5 oz',\n",
    "        'Ddrops Booster Liquid Vitamin D3 600 IU 0 09 f...',\n",
    "        'carmex lip balm stick, strawberry, 3 count',\n",
    "        'Dl Permatex Blue Label 01406 Cream Hand Cleane...',\n",
    "        'Dorothy Gray Satura Moisture Cream with Vitami...'\n",
    "    ],\n",
    "    'ReviewCount': [3, 1, 1, 1, 1, 1, 6, 1, 2, 1],\n",
    "    'Brand': [\n",
    "        'dermorganic', 'dermalogica', 'dermalogica', \n",
    "        'design, essentials', 'design', 'dax', \n",
    "        'ddrops', 'carmex', 'permtx, lockt', \n",
    "        'dorothy, gray'\n",
    "    ],\n",
    "    'ImageURL': [\n",
    "        'https://i5.walmartimages.com/asr/3c14a936-2b0f...',\n",
    "        'https://i5.walmartimages.com/asr/74486e21-a298...',\n",
    "        'https://i5.walmartimages.com/asr/2099e2a7-64f5...',\n",
    "        'https://i5.walmartimages.com/asr/ff2dba1d-0c02...',\n",
    "        'https://i5.walmartimages.com/asr/ea1400a7-a4d5...',\n",
    "        'https://i5.walmartimages.com/asr/9d94a3fc-58d0...',\n",
    "        'https://i5.walmartimages.com/asr/2b397feb-bc62...',\n",
    "        'https://i5.walmartimages.com/asr/adbcfbe8-fb3c...',\n",
    "        'https://i5.walmartimages.com/asr/fdf5474d-f71f...',\n",
    "        'https://i5.walmartimages.com/asr/e1e1ef79-385f...'\n",
    "    ],\n",
    "    'Rating': [5, 5, 5, 5, 5, 5, 5, 5, 5, 5]\n",
    "}\n",
    "\n",
    "# Creating the DataFrame\n",
    "df = pd.DataFrame(data)\n",
    "\n",
    "# Saving the DataFrame to a CSV file\n",
    "df.to_csv('C:/Users/sajin/project/models/trending_products.csv', index=False)\n",
    "\n"
   ]
  },
  {
   "cell_type": "code",
   "execution_count": 24,
   "id": "dc6feada-2616-4854-b944-6b970415ec44",
   "metadata": {},
   "outputs": [],
   "source": [
    "from sklearn.feature_extraction.text import TfidfVectorizer\n",
    "from sklearn.metrics.pairwise import cosine_similarity\n",
    "\n",
    "tfidf_vectorizer = TfidfVectorizer(stop_words='english')\n",
    "tfidf_matrix_content = tfidf_vectorizer.fit_transform(train_data['Tags'])\n",
    "cosine_similarities_content = cosine_similarity(tfidf_matrix_content,tfidf_matrix_content)"
   ]
  },
  {
   "cell_type": "code",
   "execution_count": 25,
   "id": "d861df3e-37e0-4737-bfc9-9004b133c8ae",
   "metadata": {},
   "outputs": [],
   "source": [
    "item_name = 'OPI Infinite Shine, Nail Lacquer Nail Polish, Bubble Bath'\n",
    "item_index = train_data[train_data['Name']==item_name].index[0]"
   ]
  },
  {
   "cell_type": "code",
   "execution_count": 26,
   "id": "1647c4dd-4a07-4954-b500-aaf30e588ff7",
   "metadata": {},
   "outputs": [],
   "source": [
    "similar_items = list(enumerate(cosine_similarities_content[item_index]))"
   ]
  },
  {
   "cell_type": "code",
   "execution_count": 27,
   "id": "1d03d8be-e758-4632-bac0-8c962e3bab85",
   "metadata": {},
   "outputs": [],
   "source": [
    "similar_items = sorted(similar_items, key=lambda x:x[1], reverse=True)\n",
    "top_similar_items = similar_items[1:10]\n",
    "\n",
    "recommended_items_indics = [x[0] for x in top_similar_items]"
   ]
  },
  {
   "cell_type": "code",
   "execution_count": 28,
   "id": "26879b40-1cf4-4839-9b72-202302fbaf8b",
   "metadata": {},
   "outputs": [
    {
     "data": {
      "text/html": [
       "<div>\n",
       "<style scoped>\n",
       "    .dataframe tbody tr th:only-of-type {\n",
       "        vertical-align: middle;\n",
       "    }\n",
       "\n",
       "    .dataframe tbody tr th {\n",
       "        vertical-align: top;\n",
       "    }\n",
       "\n",
       "    .dataframe thead th {\n",
       "        text-align: right;\n",
       "    }\n",
       "</style>\n",
       "<table border=\"1\" class=\"dataframe\">\n",
       "  <thead>\n",
       "    <tr style=\"text-align: right;\">\n",
       "      <th></th>\n",
       "      <th>Name</th>\n",
       "      <th>ReviewCount</th>\n",
       "      <th>Brand</th>\n",
       "    </tr>\n",
       "  </thead>\n",
       "  <tbody>\n",
       "    <tr>\n",
       "      <th>155</th>\n",
       "      <td>OPI Nail Lacquer Polish .5oz/15mL - This Gown ...</td>\n",
       "      <td>0.0</td>\n",
       "      <td>opi</td>\n",
       "    </tr>\n",
       "    <tr>\n",
       "      <th>183</th>\n",
       "      <td>OPI Nail Gel Polish GelColor .5oz/15mL 3 CT Co...</td>\n",
       "      <td>0.0</td>\n",
       "      <td>opi</td>\n",
       "    </tr>\n",
       "    <tr>\n",
       "      <th>203</th>\n",
       "      <td>OPI Nail Lacquer - Dont Bossa Nova Me Around -...</td>\n",
       "      <td>0.0</td>\n",
       "      <td>opi</td>\n",
       "    </tr>\n",
       "    <tr>\n",
       "      <th>234</th>\n",
       "      <td>OPI Infinite Shine 2 Polish - ISL P33 - Alpaca...</td>\n",
       "      <td>5.0</td>\n",
       "      <td>opi</td>\n",
       "    </tr>\n",
       "    <tr>\n",
       "      <th>318</th>\n",
       "      <td>OPI Gel Polish Fall 2019 Scotland Collection G...</td>\n",
       "      <td>1.0</td>\n",
       "      <td>opi</td>\n",
       "    </tr>\n",
       "    <tr>\n",
       "      <th>366</th>\n",
       "      <td>OPI Nail Gel Polish GelColor .5oz/15mL 3 CT Co...</td>\n",
       "      <td>1.0</td>\n",
       "      <td>opi</td>\n",
       "    </tr>\n",
       "    <tr>\n",
       "      <th>392</th>\n",
       "      <td>OPI Nail Polish, Strawberry Margarita, 0.5 Fl Oz</td>\n",
       "      <td>57.0</td>\n",
       "      <td>opi</td>\n",
       "    </tr>\n",
       "    <tr>\n",
       "      <th>671</th>\n",
       "      <td>OPI Nail Gel Polish GelColor .5oz/15mL 3 CT Co...</td>\n",
       "      <td>1.0</td>\n",
       "      <td>opi</td>\n",
       "    </tr>\n",
       "    <tr>\n",
       "      <th>820</th>\n",
       "      <td>OPI- Nail Lacquer-GelColor - &amp;quotLiv&amp;quotin t...</td>\n",
       "      <td>0.0</td>\n",
       "      <td>opi</td>\n",
       "    </tr>\n",
       "  </tbody>\n",
       "</table>\n",
       "</div>"
      ],
      "text/plain": [
       "                                                  Name  ReviewCount Brand\n",
       "155  OPI Nail Lacquer Polish .5oz/15mL - This Gown ...          0.0   opi\n",
       "183  OPI Nail Gel Polish GelColor .5oz/15mL 3 CT Co...          0.0   opi\n",
       "203  OPI Nail Lacquer - Dont Bossa Nova Me Around -...          0.0   opi\n",
       "234  OPI Infinite Shine 2 Polish - ISL P33 - Alpaca...          5.0   opi\n",
       "318  OPI Gel Polish Fall 2019 Scotland Collection G...          1.0   opi\n",
       "366  OPI Nail Gel Polish GelColor .5oz/15mL 3 CT Co...          1.0   opi\n",
       "392   OPI Nail Polish, Strawberry Margarita, 0.5 Fl Oz         57.0   opi\n",
       "671  OPI Nail Gel Polish GelColor .5oz/15mL 3 CT Co...          1.0   opi\n",
       "820  OPI- Nail Lacquer-GelColor - &quotLiv&quotin t...          0.0   opi"
      ]
     },
     "execution_count": 28,
     "metadata": {},
     "output_type": "execute_result"
    }
   ],
   "source": [
    "train_data.iloc[recommended_items_indics][['Name','ReviewCount','Brand']]"
   ]
  },
  {
   "cell_type": "code",
   "execution_count": 29,
   "id": "95fdce3e-f646-4615-9103-895db2814815",
   "metadata": {},
   "outputs": [],
   "source": [
    "from sklearn.feature_extraction.text import TfidfVectorizer\n",
    "from sklearn.metrics.pairwise import cosine_similarity\n",
    "\n",
    "def content_based_recommendations(train_data, item_name, top_n=10):\n",
    "    # Check if the item name exists in the training data\n",
    "    if item_name not in train_data['Name'].values:\n",
    "        print(f\"Item '{item_name}' not found in the training data.\")\n",
    "        return pd.DataFrame()\n",
    "\n",
    "    # Create a TF-IDF vectorizer for item descriptions\n",
    "    tfidf_vectorizer = TfidfVectorizer(stop_words='english')\n",
    "\n",
    "    # Apply TF-IDF vectorization to item descriptions\n",
    "    tfidf_matrix_content = tfidf_vectorizer.fit_transform(train_data['Tags'])\n",
    "\n",
    "    # Calculate cosine similarity between items based on descriptions\n",
    "    cosine_similarities_content = cosine_similarity(tfidf_matrix_content, tfidf_matrix_content)\n",
    "\n",
    "    # Find the index of the item\n",
    "    item_index = train_data[train_data['Name'] == item_name].index[0]\n",
    "\n",
    "    # Get the cosine similarity scores for the item\n",
    "    similar_items = list(enumerate(cosine_similarities_content[item_index]))\n",
    "\n",
    "    # Sort similar items by similarity score in descending order\n",
    "    similar_items = sorted(similar_items, key=lambda x: x[1], reverse=True)\n",
    "\n",
    "    # Get the top N most similar items (excluding the item itself)\n",
    "    top_similar_items = similar_items[1:top_n+1]\n",
    "\n",
    "    # Get the indices of the top similar items\n",
    "    recommended_item_indices = [x[0] for x in top_similar_items]\n",
    "\n",
    "    # Get the details of the top similar items\n",
    "    recommended_items_details = train_data.iloc[recommended_item_indices][['Name', 'ReviewCount', 'Brand', 'ImageURL', 'Rating']]\n",
    "\n",
    "    return recommended_items_details"
   ]
  },
  {
   "cell_type": "code",
   "execution_count": 30,
   "id": "55a3fd87-f95d-4527-aa22-3565b4d35c96",
   "metadata": {},
   "outputs": [
    {
     "data": {
      "text/html": [
       "<div>\n",
       "<style scoped>\n",
       "    .dataframe tbody tr th:only-of-type {\n",
       "        vertical-align: middle;\n",
       "    }\n",
       "\n",
       "    .dataframe tbody tr th {\n",
       "        vertical-align: top;\n",
       "    }\n",
       "\n",
       "    .dataframe thead th {\n",
       "        text-align: right;\n",
       "    }\n",
       "</style>\n",
       "<table border=\"1\" class=\"dataframe\">\n",
       "  <thead>\n",
       "    <tr style=\"text-align: right;\">\n",
       "      <th></th>\n",
       "      <th>Name</th>\n",
       "      <th>ReviewCount</th>\n",
       "      <th>Brand</th>\n",
       "      <th>ImageURL</th>\n",
       "      <th>Rating</th>\n",
       "    </tr>\n",
       "  </thead>\n",
       "  <tbody>\n",
       "    <tr>\n",
       "      <th>155</th>\n",
       "      <td>OPI Nail Lacquer Polish .5oz/15mL - This Gown ...</td>\n",
       "      <td>0.0</td>\n",
       "      <td>opi</td>\n",
       "      <td>https://i5.walmartimages.com/asr/71caed3f-5f83...</td>\n",
       "      <td>0.0</td>\n",
       "    </tr>\n",
       "    <tr>\n",
       "      <th>183</th>\n",
       "      <td>OPI Nail Gel Polish GelColor .5oz/15mL 3 CT Co...</td>\n",
       "      <td>0.0</td>\n",
       "      <td>opi</td>\n",
       "      <td>https://i5.walmartimages.com/asr/2d6f5147-53a8...</td>\n",
       "      <td>0.0</td>\n",
       "    </tr>\n",
       "    <tr>\n",
       "      <th>203</th>\n",
       "      <td>OPI Nail Lacquer - Dont Bossa Nova Me Around -...</td>\n",
       "      <td>0.0</td>\n",
       "      <td>opi</td>\n",
       "      <td>https://i5.walmartimages.com/asr/fd1195d2-8d8d...</td>\n",
       "      <td>0.0</td>\n",
       "    </tr>\n",
       "    <tr>\n",
       "      <th>234</th>\n",
       "      <td>OPI Infinite Shine 2 Polish - ISL P33 - Alpaca...</td>\n",
       "      <td>5.0</td>\n",
       "      <td>opi</td>\n",
       "      <td>https://i5.walmartimages.com/asr/7426eb5c-1690...</td>\n",
       "      <td>0.0</td>\n",
       "    </tr>\n",
       "    <tr>\n",
       "      <th>318</th>\n",
       "      <td>OPI Gel Polish Fall 2019 Scotland Collection G...</td>\n",
       "      <td>1.0</td>\n",
       "      <td>opi</td>\n",
       "      <td>https://i5.walmartimages.com/asr/79bbbd9f-9a89...</td>\n",
       "      <td>0.0</td>\n",
       "    </tr>\n",
       "    <tr>\n",
       "      <th>366</th>\n",
       "      <td>OPI Nail Gel Polish GelColor .5oz/15mL 3 CT Co...</td>\n",
       "      <td>1.0</td>\n",
       "      <td>opi</td>\n",
       "      <td>https://i5.walmartimages.com/asr/744e869c-3500...</td>\n",
       "      <td>5.0</td>\n",
       "    </tr>\n",
       "    <tr>\n",
       "      <th>392</th>\n",
       "      <td>OPI Nail Polish, Strawberry Margarita, 0.5 Fl Oz</td>\n",
       "      <td>57.0</td>\n",
       "      <td>opi</td>\n",
       "      <td>https://i5.walmartimages.com/asr/b95676e5-96ab...</td>\n",
       "      <td>4.4</td>\n",
       "    </tr>\n",
       "    <tr>\n",
       "      <th>671</th>\n",
       "      <td>OPI Nail Gel Polish GelColor .5oz/15mL 3 CT Co...</td>\n",
       "      <td>1.0</td>\n",
       "      <td>opi</td>\n",
       "      <td>https://i5.walmartimages.com/asr/c7ba4815-52f7...</td>\n",
       "      <td>5.0</td>\n",
       "    </tr>\n",
       "  </tbody>\n",
       "</table>\n",
       "</div>"
      ],
      "text/plain": [
       "                                                  Name  ReviewCount Brand  \\\n",
       "155  OPI Nail Lacquer Polish .5oz/15mL - This Gown ...          0.0   opi   \n",
       "183  OPI Nail Gel Polish GelColor .5oz/15mL 3 CT Co...          0.0   opi   \n",
       "203  OPI Nail Lacquer - Dont Bossa Nova Me Around -...          0.0   opi   \n",
       "234  OPI Infinite Shine 2 Polish - ISL P33 - Alpaca...          5.0   opi   \n",
       "318  OPI Gel Polish Fall 2019 Scotland Collection G...          1.0   opi   \n",
       "366  OPI Nail Gel Polish GelColor .5oz/15mL 3 CT Co...          1.0   opi   \n",
       "392   OPI Nail Polish, Strawberry Margarita, 0.5 Fl Oz         57.0   opi   \n",
       "671  OPI Nail Gel Polish GelColor .5oz/15mL 3 CT Co...          1.0   opi   \n",
       "\n",
       "                                              ImageURL  Rating  \n",
       "155  https://i5.walmartimages.com/asr/71caed3f-5f83...     0.0  \n",
       "183  https://i5.walmartimages.com/asr/2d6f5147-53a8...     0.0  \n",
       "203  https://i5.walmartimages.com/asr/fd1195d2-8d8d...     0.0  \n",
       "234  https://i5.walmartimages.com/asr/7426eb5c-1690...     0.0  \n",
       "318  https://i5.walmartimages.com/asr/79bbbd9f-9a89...     0.0  \n",
       "366  https://i5.walmartimages.com/asr/744e869c-3500...     5.0  \n",
       "392  https://i5.walmartimages.com/asr/b95676e5-96ab...     4.4  \n",
       "671  https://i5.walmartimages.com/asr/c7ba4815-52f7...     5.0  "
      ]
     },
     "execution_count": 30,
     "metadata": {},
     "output_type": "execute_result"
    }
   ],
   "source": [
    "# Example: Get content-based recommendations for a specific item\n",
    "item_name = 'OPI Infinite Shine, Nail Lacquer Nail Polish, Bubble Bath'\n",
    "content_based_rec = content_based_recommendations(train_data, item_name, top_n=8)\n",
    "\n",
    "content_based_rec"
   ]
  },
  {
   "cell_type": "code",
   "execution_count": 31,
   "id": "6fc4206a-1d66-4711-b3fd-a095497d3276",
   "metadata": {},
   "outputs": [
    {
     "data": {
      "text/html": [
       "<div>\n",
       "<style scoped>\n",
       "    .dataframe tbody tr th:only-of-type {\n",
       "        vertical-align: middle;\n",
       "    }\n",
       "\n",
       "    .dataframe tbody tr th {\n",
       "        vertical-align: top;\n",
       "    }\n",
       "\n",
       "    .dataframe thead th {\n",
       "        text-align: right;\n",
       "    }\n",
       "</style>\n",
       "<table border=\"1\" class=\"dataframe\">\n",
       "  <thead>\n",
       "    <tr style=\"text-align: right;\">\n",
       "      <th></th>\n",
       "      <th>Name</th>\n",
       "      <th>ReviewCount</th>\n",
       "      <th>Brand</th>\n",
       "      <th>ImageURL</th>\n",
       "      <th>Rating</th>\n",
       "    </tr>\n",
       "  </thead>\n",
       "  <tbody>\n",
       "    <tr>\n",
       "      <th>2870</th>\n",
       "      <td>Kokie Professional Matte Lipstick, Firecracker...</td>\n",
       "      <td>0.0</td>\n",
       "      <td>kokie, cosmetics</td>\n",
       "      <td>https://i5.walmartimages.com/asr/8312221b-ed22...</td>\n",
       "      <td>0.0</td>\n",
       "    </tr>\n",
       "    <tr>\n",
       "      <th>525</th>\n",
       "      <td>Kokie Professional Matte Lipstick, Kiss Me, 0....</td>\n",
       "      <td>0.0</td>\n",
       "      <td>kokie, cosmetics</td>\n",
       "      <td>https://i5.walmartimages.com/asr/27dd82a2-2b9c...</td>\n",
       "      <td>0.0</td>\n",
       "    </tr>\n",
       "    <tr>\n",
       "      <th>3371</th>\n",
       "      <td>Kokie Professional Lip Poudre Liquid Matte Liq...</td>\n",
       "      <td>7.0</td>\n",
       "      <td>kokie, cosmetics</td>\n",
       "      <td>https://i5.walmartimages.com/asr/fdd7498c-319f...</td>\n",
       "      <td>3.4</td>\n",
       "    </tr>\n",
       "    <tr>\n",
       "      <th>3398</th>\n",
       "      <td>e.l.f. Mad for Matte 4 Piece Lip Color Set</td>\n",
       "      <td>0.0</td>\n",
       "      <td>cosmetics</td>\n",
       "      <td>https://i5.walmartimages.com/asr/e2d30304-edc9...</td>\n",
       "      <td>0.0</td>\n",
       "    </tr>\n",
       "    <tr>\n",
       "      <th>1409</th>\n",
       "      <td>LOreal Paris Colour Riche Matte Lip Liner, Mat...</td>\n",
       "      <td>495.0</td>\n",
       "      <td>paris</td>\n",
       "      <td>https://i5.walmartimages.com/asr/baf97085-7231...</td>\n",
       "      <td>4.4</td>\n",
       "    </tr>\n",
       "    <tr>\n",
       "      <th>2445</th>\n",
       "      <td>Kokie Professional Lip Poudre Liquid Matte Liq...</td>\n",
       "      <td>7.0</td>\n",
       "      <td>kokie, cosmetics</td>\n",
       "      <td>https://i5.walmartimages.com/asr/31c99d9b-ea11...</td>\n",
       "      <td>3.4</td>\n",
       "    </tr>\n",
       "    <tr>\n",
       "      <th>3758</th>\n",
       "      <td>Be Matte Lipstick - Soft Pink</td>\n",
       "      <td>2.0</td>\n",
       "      <td>city, color</td>\n",
       "      <td>https://i5.walmartimages.com/asr/69e1ec63-be5e...</td>\n",
       "      <td>3.0</td>\n",
       "    </tr>\n",
       "    <tr>\n",
       "      <th>1194</th>\n",
       "      <td>Be Matte Lipstick - Baby Pink</td>\n",
       "      <td>2.0</td>\n",
       "      <td>city, color</td>\n",
       "      <td>https://i5.walmartimages.com/asr/acadf0c0-739f...</td>\n",
       "      <td>3.0</td>\n",
       "    </tr>\n",
       "  </tbody>\n",
       "</table>\n",
       "</div>"
      ],
      "text/plain": [
       "                                                   Name  ReviewCount  \\\n",
       "2870  Kokie Professional Matte Lipstick, Firecracker...          0.0   \n",
       "525   Kokie Professional Matte Lipstick, Kiss Me, 0....          0.0   \n",
       "3371  Kokie Professional Lip Poudre Liquid Matte Liq...          7.0   \n",
       "3398         e.l.f. Mad for Matte 4 Piece Lip Color Set          0.0   \n",
       "1409  LOreal Paris Colour Riche Matte Lip Liner, Mat...        495.0   \n",
       "2445  Kokie Professional Lip Poudre Liquid Matte Liq...          7.0   \n",
       "3758                      Be Matte Lipstick - Soft Pink          2.0   \n",
       "1194                      Be Matte Lipstick - Baby Pink          2.0   \n",
       "\n",
       "                 Brand                                           ImageURL  \\\n",
       "2870  kokie, cosmetics  https://i5.walmartimages.com/asr/8312221b-ed22...   \n",
       "525   kokie, cosmetics  https://i5.walmartimages.com/asr/27dd82a2-2b9c...   \n",
       "3371  kokie, cosmetics  https://i5.walmartimages.com/asr/fdd7498c-319f...   \n",
       "3398         cosmetics  https://i5.walmartimages.com/asr/e2d30304-edc9...   \n",
       "1409             paris  https://i5.walmartimages.com/asr/baf97085-7231...   \n",
       "2445  kokie, cosmetics  https://i5.walmartimages.com/asr/31c99d9b-ea11...   \n",
       "3758       city, color  https://i5.walmartimages.com/asr/69e1ec63-be5e...   \n",
       "1194       city, color  https://i5.walmartimages.com/asr/acadf0c0-739f...   \n",
       "\n",
       "      Rating  \n",
       "2870     0.0  \n",
       "525      0.0  \n",
       "3371     3.4  \n",
       "3398     0.0  \n",
       "1409     4.4  \n",
       "2445     3.4  \n",
       "3758     3.0  \n",
       "1194     3.0  "
      ]
     },
     "execution_count": 31,
     "metadata": {},
     "output_type": "execute_result"
    }
   ],
   "source": [
    "# Example: Get content-based recommendations for a specific item\n",
    "item_name = 'Kokie Professional Matte Lipstick, Hot Berry, 0.14 fl oz'\n",
    "content_based_rec = content_based_recommendations(train_data, item_name, top_n=8)\n",
    "\n",
    "content_based_rec"
   ]
  },
  {
   "cell_type": "code",
   "execution_count": null,
   "id": "02832d80-e384-4d77-879e-441fe3362243",
   "metadata": {},
   "outputs": [],
   "source": []
  }
 ],
 "metadata": {
  "kernelspec": {
   "display_name": "Python 3 (ipykernel)",
   "language": "python",
   "name": "python3"
  },
  "language_info": {
   "codemirror_mode": {
    "name": "ipython",
    "version": 3
   },
   "file_extension": ".py",
   "mimetype": "text/x-python",
   "name": "python",
   "nbconvert_exporter": "python",
   "pygments_lexer": "ipython3",
   "version": "3.12.4"
  }
 },
 "nbformat": 4,
 "nbformat_minor": 5
}
